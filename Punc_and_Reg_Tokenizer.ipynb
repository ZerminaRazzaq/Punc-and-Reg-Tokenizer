{
  "nbformat": 4,
  "nbformat_minor": 0,
  "metadata": {
    "colab": {
      "name": "Punc and Reg Tokenizer.ipynb",
      "provenance": []
    },
    "kernelspec": {
      "name": "python3",
      "display_name": "Python 3"
    }
  },
  "cells": [
    {
      "cell_type": "code",
      "metadata": {
        "id": "raoRMUU4-iev"
      },
      "source": [
        "from nltk.tokenize import WordPunctTokenizer \r\n",
        "  \r\n",
        "# WordPunctTokenizer – It seperates the punctuation from the words\r\n",
        "\r\n",
        "tokenizer = WordPunctTokenizer() \r\n",
        "tokenizer.tokenize(\"Let's see how it's working.\")\r\n",
        "\r\n",
        "#Using Regular Expression\r\n",
        "\r\n",
        "\r\n",
        "from nltk.tokenize import RegexpTokenizer \r\n",
        "  \r\n",
        "tokenizer = RegexpTokenizer(\"[\\w']+\") \r\n",
        "text = \"Let's see how it's working.\"\r\n",
        "tokenizer.tokenize(text"
      ],
      "execution_count": null,
      "outputs": []
    }
  ]
}